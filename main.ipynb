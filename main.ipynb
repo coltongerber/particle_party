{
 "cells": [
  {
   "cell_type": "markdown",
   "metadata": {},
   "source": [
    "## Running, Visualizing, and Analyzing Molecular Dynamics (MD) Simulations ##\n",
    "In this notebook, you will use Python tools to play around with Molecular Dynamics (MD) simulations. In this example, we will prepare a system of interacting hexamers that may spontaneously self-assemble into hexameric sheets. The hexamers look like the following:\n",
    "\n",
    "<div>\n",
    "<img src=\"toy_hex.png\" width=\"250\"/>\n",
    "</div>\n",
    "   \n",
    "where the cyan spheres are the body of the molecule and the pink spheres are virtual interaction sites that will allow each hexamer to bind to other hexamers. This interaction is attractive and has the following Gaussian functional form:\n",
    "\n",
    "$$ U(r_{ij}) = -A \\exp{(-B r_{ij})} $$\n",
    "\n",
    "where $U$ is the potential energy in kcal/mol, $r_{ij}$ is the pair distance between sites in Angstroms, and $A$/$B$ are model parameters. \n",
    "\n",
    "All of our simulations will be performed using LAMMPS, an open-source MD package developed at Sandia National Lab."
   ]
  },
  {
   "cell_type": "markdown",
   "metadata": {},
   "source": [
    "## What am I looking at right now?\n",
    "This is a \"Jupyter notebook\", a tool for using Python interactively. For example, you can quickly work with data, run simulations, visualize data, etc. then decide you want to see how your results might change if you change a parameter earlier in your workflow. If you've used Mathematica before, the idea behind a Jupyter notebook is very similar. You hit `shift-enter` or `shift-return` to execute the code in a \"cell\". \n",
    "\n",
    "**Beware:**\n",
    "- the good thing about notebooks is that they let you interact with your data in very flexible ways\n",
    "- the bad thing is that you can execute cells out of order and overwrite variables in ways you forget or didn't expect\n",
    "\n",
    "If you're getting weird results, it's best to either do `Cell->Run All` at the top to reset the entire notebook, or if really needed, `Kernel->Restart`\n",
    "\n",
    "Let us run our first cell (right below) by hitting `shift-enter` inside the cell. This cell will import Python modules that we will need for the rest of the exercise. Note that the left of the cell will have a \"star\" marker (i.e., \"In \\[*\\]\") when it is running and an integer (i.e., \"In \\[1\\]\")when it is done."
   ]
  },
  {
   "cell_type": "code",
   "execution_count": 1,
   "metadata": {},
   "outputs": [
    {
     "data": {
      "application/vnd.jupyter.widget-view+json": {
       "model_id": "e633bb9bdaa0467db96dc97e05c8f729",
       "version_major": 2,
       "version_minor": 0
      },
      "text/plain": []
     },
     "metadata": {},
     "output_type": "display_data"
    }
   ],
   "source": [
    "# Time to setup the notebook! This might take a few minutes to finish.\n",
    "# We are importing modules/libraries that other folks have created\n",
    "# These libraries contain functions that will use (so that we don't reinvent the wheel)\n",
    "\n",
    "import numpy as np\n",
    "import mdtraj as md\n",
    "import nglview as ngl\n",
    "from lammps import IPyLammps\n",
    "from ase.io import read"
   ]
  },
  {
   "cell_type": "markdown",
   "metadata": {},
   "source": [
    "### Preparing the LAMMPS simulation ###\n",
    "In your folder, you have the following files: \n",
    "\n",
    "(1) **supercell.pdb** - this is a file format known as the 'Protein Data Bank' format and contains the initial coordinates of our system as well as topology information (names and indices of atoms, residues, etc.)\n",
    "\n",
    "(2) **system.data** - this is an input file used by LAMMPS and contains the coordinates and topology information for a single hexamer, which we will later tile to form the complete system\n",
    "\n",
    "(3) **input.setup** - this is an input file used by LAMMPS that determines most of the simulation parameters (force field definition, integration method, timestep, etc.)\n",
    "\n",
    "All of these files are text files so you should feel free to view their contents using your favorite text editor.\n",
    "\n",
    "In the next cell, we will prepare the LAMMPS simulation using our input files. We can further modify the simulation using the `lammps` module, as you will see."
   ]
  },
  {
   "cell_type": "code",
   "execution_count": 3,
   "metadata": {},
   "outputs": [
    {
     "name": "stdout",
     "output_type": "stream",
     "text": [
      "OMP_NUM_THREADS environment is not set. Defaulting to 1 thread. (src/comm.cpp:98)\n",
      "  using 1 OpenMP thread(s) per MPI task\n",
      "Lattice spacing in x,y,z = 4.08 4.08 4.08\n",
      "Created orthogonal box = (0 0 0) to (16.32 16.32 16.32)\n",
      "  1 by 1 by 1 MPI processor grid\n",
      "Lattice spacing in x,y,z = 4.08 4.08 4.08\n",
      "Created 256 atoms\n",
      "  using lattice units in orthogonal box = (0 0 0) to (16.32 16.32 16.32)\n",
      "  create_atoms CPU = 0.000 seconds\n",
      "System init for write_data ...\n",
      "Generated 0 of 0 mixed pair_coeff terms from geometric mixing rule\n",
      "Neighbor list info ...\n",
      "  update: every = 1 steps, delay = 0 steps, check = yes\n",
      "  max neighbors/atom: 2000, page size: 100000\n",
      "  master list distance cutoff = 11.69298\n",
      "  ghost atom cutoff = 11.69298\n",
      "  binsize = 5.84649, bins = 3 3 3\n",
      "  1 neighbor lists, perpetual/occasional/extra = 1 0 0\n",
      "  (1) pair lj/cut, perpetual\n",
      "      attributes: half, newton on\n",
      "      pair build: half/bin/atomonly/newton\n",
      "      stencil: half/bin/3d\n",
      "      bin: standard\n",
      "Generated 0 of 0 mixed pair_coeff terms from geometric mixing rule\n",
      "Setting up Verlet run ...\n",
      "  Unit style    : metal\n",
      "  Current step  : 0\n",
      "  Time step     : 0.001\n",
      "Per MPI rank memory allocation (min/avg/max) = 3.219 | 3.219 | 3.219 Mbytes\n",
      "   Step          Temp          TotEng         KinEng         PotEng    \n",
      "         0   2000          -4095.65        65.922674     -4161.5727    \n",
      "      1000   1169.8502     -4086.4012      38.559827     -4124.961     \n",
      "      2000   1263.8794     -4072.7408      41.659154     -4114.4       \n",
      "      3000   1652.8187     -4056.9386      54.479113     -4111.4177    \n",
      "      4000   1875.2366     -4040.7976      61.810304     -4102.6079    \n",
      "      5000   1969.5002     -4027.8298      64.917359     -4092.7471    \n",
      "      6000   2223.3866     -4022.4406      73.285795     -4095.7264    \n",
      "      7000   2112.3484     -4027.5592      69.625828     -4097.185     \n",
      "      8000   1956.0096     -4036.179       64.472691     -4100.6517    \n",
      "      9000   1866.1538     -4040.0096      61.510924     -4101.5205    \n",
      "     10000   LAMMPS output is captured by PyLammps wrapper\n",
      "1878.8152     -4037.0692      61.928262     -4098.9974    \n",
      "Loop time of 1.80556 on 1 procs for 10000 steps with 256 atoms\n",
      "\n",
      "Performance: 478.521 ns/day, 0.050 hours/ns, 5538.434 timesteps/s, 1.418 Matom-step/s\n",
      "99.2% CPU use with 1 MPI tasks x 1 OpenMP threads\n",
      "\n",
      "MPI task timing breakdown:\n",
      "Section |  min time  |  avg time  |  max time  |%varavg| %total\n",
      "---------------------------------------------------------------\n",
      "Pair    | 1.5592     | 1.5592     | 1.5592     |   0.0 | 86.35\n",
      "Neigh   | 0          | 0          | 0          |   0.0 |  0.00\n",
      "Comm    | 0.075413   | 0.075413   | 0.075413   |   0.0 |  4.18\n",
      "Output  | 0.1273     | 0.1273     | 0.1273     |   0.0 |  7.05\n",
      "Modify  | 0.025763   | 0.025763   | 0.025763   |   0.0 |  1.43\n",
      "Other   |            | 0.01791    |            |       |  0.99\n",
      "\n",
      "Nlocal:            256 ave         256 max         256 min\n",
      "Histogram: 1 0 0 0 0 0 0 0 0 0\n",
      "Nghost:           3173 ave        3173 max        3173 min\n",
      "Histogram: 1 0 0 0 0 0 0 0 0 0\n",
      "Neighs:          48640 ave       48640 max       48640 min\n",
      "Histogram: 1 0 0 0 0 0 0 0 0 0\n",
      "\n",
      "Total # of neighbors = 48640\n",
      "Ave neighs/atom = 190\n",
      "Neighbor list builds = 0\n",
      "Dangerous builds = 0\n",
      "Generated 0 of 0 mixed pair_coeff terms from geometric mixing rule\n",
      "Setting up Verlet run ...\n",
      "  Unit style    : metal\n",
      "  Current step  : 10000\n",
      "  Time step     : 0.001\n",
      "Per MPI rank memory allocation (min/avg/max) = 4.229 | 4.229 | 4.229 Mbytes\n",
      "   Step          Temp          TotEng         KinEng         PotEng    \n",
      "     10000   1878.8152     -4037.0692      61.928262     -4098.9974    \n",
      "     11000   1999.0601     -4036.942       65.891695     -4102.8337    \n",
      "     12000   1872.7329     -4046.8135      61.727781     -4108.5413    \n",
      "     13000   1682.1408     -4055.1003      55.445611     -4110.546     \n",
      "     14000   1469.4473     -4066.0805      48.434949     -4114.5154    \n",
      "     15000   1304.3183     -4077.7505      42.992073     -4120.7426    \n",
      "     16000   1054.5278     -4089.8519      34.758645     -4124.6106    \n",
      "     17000   913.03872     -4102.2708      30.094977     -4132.3658    \n",
      "     18000   695.79934     -4114.6441      22.934477     -4137.5785    \n",
      "     19000   485.30539     -4127.2229      15.996314     -4143.2192    \n",
      "     20000   275.75109     -4143.162       9.0891247     -4152.2512    \n",
      "Loop time of 1.95874 on 1 procs for 10000 steps with 256 atoms\n",
      "\n",
      "Performance: 441.101 ns/day, 0.054 hours/ns, 5105.333 timesteps/s, 1.307 Matom-step/s\n",
      "99.1% CPU use with 1 MPI tasks x 1 OpenMP threads\n",
      "\n",
      "MPI task timing breakdown:\n",
      "Section |  min time  |  avg time  |  max time  |%varavg| %total\n",
      "---------------------------------------------------------------\n",
      "Pair    | 1.7114     | 1.7114     | 1.7114     |   0.0 | 87.37\n",
      "Neigh   | 0          | 0          | 0          |   0.0 |  0.00\n",
      "Comm    | 0.074816   | 0.074816   | 0.074816   |   0.0 |  3.82\n",
      "Output  | 0.12909    | 0.12909    | 0.12909    |   0.0 |  6.59\n",
      "Modify  | 0.025727   | 0.025727   | 0.025727   |   0.0 |  1.31\n",
      "Other   |            | 0.01772    |            |       |  0.90\n",
      "\n",
      "Nlocal:            256 ave         256 max         256 min\n",
      "Histogram: 1 0 0 0 0 0 0 0 0 0\n",
      "Nghost:           3173 ave        3173 max        3173 min\n",
      "Histogram: 1 0 0 0 0 0 0 0 0 0\n",
      "Neighs:          48852 ave       48852 max       48852 min\n",
      "Histogram: 1 0 0 0 0 0 0 0 0 0\n",
      "\n",
      "Total # of neighbors = 48852\n",
      "Ave neighs/atom = 190.82812\n",
      "Neighbor list builds = 0\n",
      "Dangerous builds = 0\n",
      "LAMMPS (7 Feb 2024 - Update 1)\n"
     ]
    }
   ],
   "source": [
    "L = IPyLammps() # this prepares the lammps Python object\n",
    "L.file(\"Au.setup\") # this loads in the other simulation settings\n"
   ]
  },
  {
   "cell_type": "markdown",
   "metadata": {},
   "source": [
    "### Running the simulation ###\n",
    "\n",
    "Now that the simulation is prepared, we can run the simulation. Let us run a short simulation of 25000 steps to see what happens. You'll see that a file called `md.dcd` will be created.\n",
    "\n",
    "NOTE: This next cell make take a few minutes to run. You will know it is still busy if you see the star in \"In \\[*\\]\""
   ]
  },
  {
   "cell_type": "code",
   "execution_count": 4,
   "metadata": {},
   "outputs": [],
   "source": [
    "# L.run(25000) #run for 25000 steps, should take a few seconds to run\n",
    "atoms = read(\"initial.data\", format=\"lammps-data\")\n",
    "atoms.write(\"initial.gro\", format=\"gromacs\")"
   ]
  },
  {
   "cell_type": "markdown",
   "metadata": {},
   "source": [
    "### Visualizing the trajectory ###\n",
    "\n",
    "You'll see in the output of the previous block that a bunch of text was printed out. This is the \"log\" of the simulation and contains useful information. For our purposes, we can skip this and instead visualize the actual trajectory.\n",
    "\n",
    "We will use `nglview` to display the trajectory. Once it loads, you can click play to see the atoms in motion!"
   ]
  },
  {
   "cell_type": "code",
   "execution_count": 5,
   "metadata": {},
   "outputs": [
    {
     "data": {
      "application/vnd.jupyter.widget-view+json": {
       "model_id": "da46bd8c2a8647378d44ccd7b4f58f54",
       "version_major": 2,
       "version_minor": 0
      },
      "text/plain": [
       "NGLWidget(max_frame=2000)"
      ]
     },
     "metadata": {},
     "output_type": "display_data"
    }
   ],
   "source": [
    "traj = md.load(\"atom.lammpstrj\", top=\"initial.gro\")\n",
    "view = ngl.show_mdtraj(traj)\n",
    "view.clear_representations()\n",
    "\n",
    "# show all sites as either cyan or pink\n",
    "view.add_spacefill(selection=\"all\", color=\"cyan\", radius=0.05)\n",
    "# view.add_spacefill(selection=\".3\", color=\"pink\", radius=3.0)\n",
    "\n",
    "# add to output\n",
    "# view.add_representation('ball+stick', selection='hetero', color='pink')\n",
    "view.stage.set_parameters(**{\n",
    "    # \"percentages, \"dist\" is distance too camera in Angstrom\n",
    "    \"clipNear\": 0, \"clipFar\": 1000, \"clipDist\": 1,\n",
    "    # percentages, start of fog and where on full effect\n",
    "    \"fogNear\": 0, \"fogFar\": 100,\n",
    "    # background color\n",
    "    \"backgroundColor\": \"white\",\n",
    "})\n",
    "view"
   ]
  },
  {
   "cell_type": "markdown",
   "metadata": {},
   "source": [
    "### Observation debrief ###\n",
    "\n",
    "What did you observe when you played those movies? Did you see aggregation of the hexamers into a cluster? What shape is the cluster?\n",
    "\n",
    "Keep this behavior in mind because now we are going to adjust the model parameters to see what happens. You should change the $A$ parameter to be lower (e.g., 2.0 kcal/mol) or higher (e.g., 4.0 kcal/mol). To do so, go back to the top of the notebook and change the line that originally says:\n",
    "\n",
    "`L.variable(\"GAUSSA equal 2.65\")`\n",
    "\n",
    "Note that the original simulation uses 2.65 kcal/mol. What do you think will happen in either scenario? Do you notice any changes in assembly behavior? "
   ]
  },
  {
   "cell_type": "code",
   "execution_count": null,
   "metadata": {},
   "outputs": [],
   "source": []
  }
 ],
 "metadata": {
  "kernelspec": {
   "display_name": "Python 3 (ipykernel)",
   "language": "python",
   "name": "python3"
  },
  "language_info": {
   "codemirror_mode": {
    "name": "ipython",
    "version": 3
   },
   "file_extension": ".py",
   "mimetype": "text/x-python",
   "name": "python",
   "nbconvert_exporter": "python",
   "pygments_lexer": "ipython3",
   "version": "3.12.4"
  }
 },
 "nbformat": 4,
 "nbformat_minor": 4
}
