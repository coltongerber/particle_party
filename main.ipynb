{
 "cells": [
  {
   "cell_type": "markdown",
   "metadata": {},
   "source": [
    "## Running, Visualizing, and Analyzing Molecular Dynamics (MD) Simulations ##\n",
    "In this notebook, you will use Python tools to play around with simulations of atoms. All of our simulations will be performed using LAMMPS, an open-source MD package developed at Sandia National Lab."
   ]
  },
  {
   "cell_type": "markdown",
   "metadata": {},
   "source": [
    "## What am I looking at right now?\n",
    "This is a \"Jupyter notebook\", a tool for using Python interactively. For example, you can quickly work with data, run simulations, visualize data, etc. then see how your results change if you change a parameter in your workflow. You hit `shift-enter` or `shift-return` to execute the code in a \"cell\". \n",
    "\n",
    "**Beware:**\n",
    "- the good thing about notebooks is that they let you interact with your data in very flexible ways\n",
    "- the bad thing is that you can execute cells out of order and overwrite variables in ways you forget or didn't expect\n",
    "\n",
    "If you're getting weird results, it's best to either do `Cell->Run All` at the top to reset the entire notebook, or if really needed, `Kernel->Restart`\n",
    "\n",
    "Let us run our first cell (right below) by hitting `shift-enter` inside the cell. This cell will import Python modules that we will need for the rest of the exercise. Note that the left of the cell will have a \"star\" marker (i.e., \"In \\[*\\]\") when it is running and an number (i.e., \"In \\[1\\]\") when it is done."
   ]
  },
  {
   "cell_type": "code",
   "execution_count": 131,
   "metadata": {},
   "outputs": [],
   "source": [
    "# Click inside of this cell and then hit `shift-enter` or `shift-return` to run the code.\n",
    "# Time to set up the notebook! This might take a few minutes to finish.\n",
    "# We are installing modules/libraries that other folks have created\n",
    "# These libraries contain functions that will use (so that we don't reinvent the wheel)\n",
    "import sys\n",
    "old_stdout = sys.stdout\n",
    "sys.stdout = open('stdout.txt', 'w')\n",
    "!pip install lammps ase nglview mdtraj\n",
    "# We now need to import or \"load\" the things we just installed.\n",
    "import numpy as np\n",
    "import mdtraj as md\n",
    "import nglview as ngl\n",
    "from lammps import lammps\n",
    "from ase.io import read\n",
    "import sys\n",
    "from data.data import LJ_PARAMS, ATOMIC_MASS, CRYSTAL_STRUCTURE\n",
    "\n",
    "# We also need to set up the simulation. \n",
    "# This defines all the rules for running the simulation except the element and temperature.\n",
    "def simulate(element, temperature, size=3, crystallize=False):\n",
    "    if crystallize:\n",
    "        lattice_parameter = LJ_PARAMS[element]['cutoff'] * 0.8\n",
    "    else:\n",
    "        lattice_parameter = CRYSTAL_STRUCTURE[element]['lattice_param']\n",
    "    old_stdout = sys.stdout\n",
    "    sys.stdout = open('stdout.txt', 'w')\n",
    "    l = lammps()\n",
    "    setup = f\"\"\"\n",
    "    clear\n",
    "    units metal\n",
    "    dimension 3\n",
    "    boundary p p p\n",
    "    atom_style atomic\n",
    "    variable writefreq equal 100\n",
    "    variable dt equal 0.001\n",
    "    variable T equal {float(temperature) * 10}\n",
    "    variable size equal {int(size)}\n",
    "    \n",
    "    lattice {CRYSTAL_STRUCTURE[element]['symmetry']} {lattice_parameter}\n",
    "    region whole block 0 ${{size}} 0 ${{size}} 0 ${{size}}\n",
    "    create_box 1 whole\n",
    "    lattice {CRYSTAL_STRUCTURE[element]['symmetry']} {lattice_parameter} orient x 1 0 0 orient y 0 1 0 orient z 0 0 1\n",
    "    create_atoms 1 region whole\n",
    "    \n",
    "    pair_style lj/cut {LJ_PARAMS[element]['cutoff']}\n",
    "    pair_coeff * * {LJ_PARAMS[element]['epsilon']} {LJ_PARAMS[element]['sigma']}\n",
    "    mass 1 {ATOMIC_MASS[element]}\n",
    "    \n",
    "    timestep ${{dt}}\n",
    "    velocity all create $T 90909 rot yes mom yes dist gaussian\n",
    "    fix mynvt all nvt temp $T $T $(dt*1000)\n",
    "    \n",
    "    dump mydump all atom ${{writefreq}} atom.lammpstrj\n",
    "\n",
    "    compute numatoms all count/type atom\n",
    "    variable ke_kilojoules equal \"ke * 1.602e-19 / atoms * 6.022e23\"\n",
    "    thermo_style custom step temp etotal ke pe v_ke_kilojoules\n",
    "    thermo 1000\n",
    "    \n",
    "    write_data initial.data\n",
    "    \"\"\"\n",
    "    l.commands_string(setup)\n",
    "    l.command(\"run 10000\")\n",
    "\n",
    "    ### Visualizing the trajectory ###\n",
    "    # You'll see in the output of the previous block that a bunch of text was printed out. This is the \"log\" of the simulation and contains useful information. For our purposes, we can skip this and instead visualize the actual trajectory.\n",
    "    # We will use `nglview` to display the trajectory. Once it loads, you can click play to see the atoms in motion!\n",
    "    atoms = read(\"initial.data\", format=\"lammps-data\")\n",
    "    atoms.write(\"initial.gro\", format=\"gromacs\")\n",
    "    traj = md.load(\"atom.lammpstrj\", top=\"initial.gro\")\n",
    "    view = ngl.show_mdtraj(traj)\n",
    "    view.clear_representations()\n",
    "    view.add_spacefill(selection=\"all\", color=\"cyan\", radius=0.05)\n",
    "    view.stage.set_parameters(**{\n",
    "        \"clipNear\": 0, \"clipFar\": 100, \"clipDist\": 1,\n",
    "    })\n",
    "    view.center()\n",
    "    sys.stdout = old_stdout\n",
    "    return view"
   ]
  },
  {
   "cell_type": "markdown",
   "metadata": {},
   "source": [
    "### Running the simulation ###\n",
    "\n",
    "Let us run a simulation of 10000 steps to see what happens.\n",
    "\n",
    "NOTE: This next cell make take a few minutes to run. You will know it is still busy if you see the star in \"In \\[*\\]\n",
    "\n",
    "Once the first cell finishes running, run the rest of the simulations in the other cells."
   ]
  },
  {
   "cell_type": "code",
   "execution_count": 132,
   "metadata": {},
   "outputs": [
    {
     "data": {
      "application/vnd.jupyter.widget-view+json": {
       "model_id": "1559f72c9fea49e78459148fedbd0d0c",
       "version_major": 2,
       "version_minor": 0
      },
      "text/plain": [
       "NGLWidget(max_frame=100)"
      ]
     },
     "metadata": {},
     "output_type": "display_data"
    }
   ],
   "source": [
    "element = \"Au\"\n",
    "temperature = 300.0\n",
    "view = simulate(element, temperature)\n",
    "view"
   ]
  },
  {
   "cell_type": "code",
   "execution_count": 133,
   "metadata": {},
   "outputs": [
    {
     "data": {
      "application/vnd.jupyter.widget-view+json": {
       "model_id": "af566195a93f4e9593a2292edd9e8fb9",
       "version_major": 2,
       "version_minor": 0
      },
      "text/plain": [
       "NGLWidget(max_frame=100)"
      ]
     },
     "metadata": {},
     "output_type": "display_data"
    }
   ],
   "source": [
    "element = \"Au\"\n",
    "temperature = 2000.0\n",
    "view = simulate(element, temperature)\n",
    "view"
   ]
  },
  {
   "cell_type": "code",
   "execution_count": 114,
   "metadata": {},
   "outputs": [
    {
     "data": {
      "application/vnd.jupyter.widget-view+json": {
       "model_id": "0d83aefedecd451cb1b6469e80a50728",
       "version_major": 2,
       "version_minor": 0
      },
      "text/plain": [
       "NGLWidget(max_frame=100)"
      ]
     },
     "metadata": {},
     "output_type": "display_data"
    }
   ],
   "source": [
    "element = \"Li\"\n",
    "temperature = 300.0\n",
    "view = simulate(element, temperature)\n",
    "view"
   ]
  },
  {
   "cell_type": "code",
   "execution_count": 115,
   "metadata": {},
   "outputs": [
    {
     "data": {
      "application/vnd.jupyter.widget-view+json": {
       "model_id": "75f527e4a89448bbbaa94810c4594bf9",
       "version_major": 2,
       "version_minor": 0
      },
      "text/plain": [
       "NGLWidget(max_frame=100)"
      ]
     },
     "metadata": {},
     "output_type": "display_data"
    }
   ],
   "source": [
    "element = \"Li\"\n",
    "temperature = 2000.0\n",
    "view = simulate(element, temperature)\n",
    "view"
   ]
  },
  {
   "cell_type": "code",
   "execution_count": 129,
   "metadata": {},
   "outputs": [
    {
     "data": {
      "application/vnd.jupyter.widget-view+json": {
       "model_id": "f08fdbcbe3764baa8acc9565a9a96bec",
       "version_major": 2,
       "version_minor": 0
      },
      "text/plain": [
       "NGLWidget(max_frame=100)"
      ]
     },
     "metadata": {},
     "output_type": "display_data"
    }
   ],
   "source": [
    "element = \"W\"\n",
    "temperature = 300.0\n",
    "view = simulate(element, temperature)\n",
    "view"
   ]
  },
  {
   "cell_type": "code",
   "execution_count": 116,
   "metadata": {},
   "outputs": [
    {
     "data": {
      "application/vnd.jupyter.widget-view+json": {
       "model_id": "6c63156885024c5d916ace2b88d0a3e3",
       "version_major": 2,
       "version_minor": 0
      },
      "text/plain": [
       "NGLWidget(max_frame=100)"
      ]
     },
     "metadata": {},
     "output_type": "display_data"
    }
   ],
   "source": [
    "element = \"W\"\n",
    "temperature = 2000.0\n",
    "view = simulate(element, temperature)\n",
    "view"
   ]
  },
 {
   "cell_type": "markdown",
   "metadata": {},
   "source": [
    "### Now you try it! ###\n",
    "\n",
    "Select an element - Au for gold, Li for lithium, or W for tungsten and enter it in the cell below. Be sure to put quotes around the element symbol. Pick any temperature you want and enter it in the cell below also."
   ]
  },
  {
   "cell_type": "code",
   "execution_count": 132,
   "metadata": {},
   "outputs": [
    {
     "data": {
      "application/vnd.jupyter.widget-view+json": {
       "model_id": "1559f72c9fea49e78459148fedbd0d0c",
       "version_major": 2,
       "version_minor": 0
      },
      "text/plain": [
       "NGLWidget(max_frame=100)"
      ]
     },
     "metadata": {},
     "output_type": "display_data"
    }
   ],
   "source": [
    "element = \n",
    "temperature = \n",
    "view = simulate(element, temperature)\n",
    "view"
   ]
  },
  {
   "cell_type": "markdown",
   "metadata": {},
   "source": [
    "## Crystallization"
   ]
  },
  {
   "cell_type": "code",
   "execution_count": 117,
   "metadata": {},
   "outputs": [
    {
     "data": {
      "application/vnd.jupyter.widget-view+json": {
       "model_id": "f2d1f966f5894574925233d3a8e94f80",
       "version_major": 2,
       "version_minor": 0
      },
      "text/plain": [
       "NGLWidget(max_frame=100)"
      ]
     },
     "metadata": {},
     "output_type": "display_data"
    }
   ],
   "source": [
    "temperature = 400  # Kelvin\n",
    "element = \"Au\"\n",
    "view = simulate(element, temperature, crystallize=True)\n",
    "view"
   ]
  },
  {
   "cell_type": "markdown",
   "metadata": {},
   "source": [
    "## Observation debrief\n"
   ]
  }
 ],
 "metadata": {
  "kernelspec": {
   "display_name": "Python 3 (ipykernel)",
   "language": "python",
   "name": "python3"
  },
  "language_info": {
   "codemirror_mode": {
    "name": "ipython",
    "version": 3
   },
   "file_extension": ".py",
   "mimetype": "text/x-python",
   "name": "python",
   "nbconvert_exporter": "python",
   "pygments_lexer": "ipython3",
   "version": "3.12.4"
  }
 },
 "nbformat": 4,
 "nbformat_minor": 4
}
