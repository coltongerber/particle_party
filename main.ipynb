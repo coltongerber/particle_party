{
 "cells": [
  {
   "cell_type": "markdown",
   "metadata": {},
   "source": [
    "## Running, Visualizing, and Analyzing Molecular Dynamics (MD) Simulations ##\n",
    "In this notebook, you will use Python tools to play around with Molecular Dynamics (MD) simulations. In this example, we will prepare a system of interacting hexamers that may spontaneously self-assemble into hexameric sheets. The hexamers look like the following:\n",
    "\n",
    "<div>\n",
    "<img src=\"toy_hex.png\" width=\"250\"/>\n",
    "</div>\n",
    "   \n",
    "where the cyan spheres are the body of the molecule and the pink spheres are virtual interaction sites that will allow each hexamer to bind to other hexamers. This interaction is attractive and has the following Gaussian functional form:\n",
    "\n",
    "$$ U(r_{ij}) = -A \\exp{(-B r_{ij})} $$\n",
    "\n",
    "where $U$ is the potential energy in kcal/mol, $r_{ij}$ is the pair distance between sites in Angstroms, and $A$/$B$ are model parameters. \n",
    "\n",
    "All of our simulations will be performed using LAMMPS, an open-source MD package developed at Sandia National Lab."
   ]
  },
  {
   "cell_type": "markdown",
   "metadata": {},
   "source": [
    "## What am I looking at right now?\n",
    "This is a \"Jupyter notebook\", a tool for using Python interactively. For example, you can quickly work with data, run simulations, visualize data, etc. then decide you want to see how your results might change if you change a parameter earlier in your workflow. If you've used Mathematica before, the idea behind a Jupyter notebook is very similar. You hit `shift-enter` or `shift-return` to execute the code in a \"cell\". \n",
    "\n",
    "**Beware:**\n",
    "- the good thing about notebooks is that they let you interact with your data in very flexible ways\n",
    "- the bad thing is that you can execute cells out of order and overwrite variables in ways you forget or didn't expect\n",
    "\n",
    "If you're getting weird results, it's best to either do `Cell->Run All` at the top to reset the entire notebook, or if really needed, `Kernel->Restart`\n",
    "\n",
    "Let us run our first cell (right below) by hitting `shift-enter` inside the cell. This cell will import Python modules that we will need for the rest of the exercise. Note that the left of the cell will have a \"star\" marker (i.e., \"In \\[*\\]\") when it is running and an integer (i.e., \"In \\[1\\]\")when it is done."
   ]
  },
  {
   "cell_type": "code",
   "execution_count": null,
   "metadata": {},
   "outputs": [],
   "source": [
    "!pip install ase"
   ]
  },
  {
   "cell_type": "code",
   "execution_count": 37,
   "metadata": {},
   "outputs": [],
   "source": [
    "# Time to setup the notebook! This might take a few minutes to finish.\n",
    "# We are importing modules/libraries that other folks have created\n",
    "# These libraries contain functions that will use (so that we don't reinvent the wheel)\n",
    "\n",
    "import numpy as np\n",
    "import mdtraj as md\n",
    "import nglview as ngl\n",
    "from lammps import IPyLammps\n",
    "from ase.io import read"
   ]
  },
  {
   "cell_type": "markdown",
   "metadata": {},
   "source": [
    "### Preparing the LAMMPS simulation ###\n",
    "In your folder, you have the following files: \n",
    "\n",
    "(1) **supercell.pdb** - this is a file format known as the 'Protein Data Bank' format and contains the initial coordinates of our system as well as topology information (names and indices of atoms, residues, etc.)\n",
    "\n",
    "(2) **system.data** - this is an input file used by LAMMPS and contains the coordinates and topology information for a single hexamer, which we will later tile to form the complete system\n",
    "\n",
    "(3) **input.setup** - this is an input file used by LAMMPS that determines most of the simulation parameters (force field definition, integration method, timestep, etc.)\n",
    "\n",
    "All of these files are text files so you should feel free to view their contents using your favorite text editor.\n",
    "\n",
    "In the next cell, we will prepare the LAMMPS simulation using our input files. We can further modify the simulation using the `lammps` module, as you will see."
   ]
  },
  {
   "cell_type": "code",
   "execution_count": 38,
   "metadata": {},
   "outputs": [
    {
     "name": "stdout",
     "output_type": "stream",
     "text": [
      "LAMMPS (7 Feb 2024 - Update 1)\n",
      "OMP_NUM_THREADS environment is not set. Defaulting to 1 thread. (src/comm.cpp:98)\n",
      "  using 1 OpenMP thread(s) per MPI task\n",
      "LAMMPS output is captured by PyLammps wrapper\n",
      "Total wall time: 0:00:43\n",
      "Created orthogonal box = (0 0 0) to (10 10 10)\n",
      "  1 by 1 by 1 MPI processor grid\n",
      "Lattice spacing in x,y,z = 4.08 4.08 4.08\n",
      "Created 63 atoms\n",
      "  using lattice units in orthogonal box = (0 0 0) to (10 10 10)\n",
      "  create_atoms CPU = 0.000 seconds\n",
      "System init for write_data ...\n",
      "Generated 0 of 0 mixed pair_coeff terms from geometric mixing rule\n",
      "Neighbor list info ...\n",
      "  update: every = 1 steps, delay = 0 steps, check = yes\n",
      "  max neighbors/atom: 2000, page size: 100000\n",
      "  master list distance cutoff = 11.69298\n",
      "  ghost atom cutoff = 11.69298\n",
      "  binsize = 5.84649, bins = 2 2 2\n",
      "  1 neighbor lists, perpetual/occasional/extra = 1 0 0\n",
      "  (1) pair lj/cut, perpetual\n",
      "      attributes: half, newton on\n",
      "      pair build: half/bin/atomonly/newton\n",
      "      stencil: half/bin/3d\n",
      "      bin: standard\n",
      "Generated 0 of 0 mixed pair_coeff terms from geometric mixing rule\n",
      "Setting up Verlet run ...\n",
      "  Unit style    : metal\n",
      "  Current step  : 0\n",
      "  Time step     : 0.001\n",
      "Per MPI rank memory allocation (min/avg/max) = 3.045 | 3.045 | 3.045 Mbytes\n",
      "   Step          Temp          TotEng    \n",
      "         0   0              7010.8184    \n",
      "      1000   36.443603     -962.65209    \n",
      "      2000   2135.4197     -1011.4119    \n",
      "      3000   435.37511     -1077.66      \n",
      "      4000   181.85609     -1079.1449    \n",
      "      5000   234.72577     -1078.6998    \n",
      "      6000   305.17909     -1077.7434    \n",
      "      7000   314.99443     -1079.2439    \n",
      "      8000   427.82813     -1076.8309    \n",
      "      9000   226.81917     -1079.3348    \n",
      "     10000   362.00237     -1077.3387    \n",
      "     11000   245.23007     -1078.9436    \n",
      "     12000   381.1024      -1077.9237    \n",
      "     13000   360.92759     -1078.1396    \n",
      "     14000   312.75751     -1078.2928    \n",
      "     15000   301.31558     -1077.7365    \n",
      "     16000   275.7662      -1078.6808    \n",
      "     17000   285.32924     -1077.6871    \n",
      "     18000   253.85716     -1078.7381    \n",
      "     19000   257.05031     -1077.6774    \n",
      "     20000   324.41568     -1078.5056    \n",
      "     21000   306.24978     -1077.8495    \n",
      "     22000   290.71919     -1078.1816    \n",
      "     23000   294.66707     -1078.3004    \n",
      "     24000   250.80132     -1077.7875    \n",
      "     25000   219.80617     -1078.7893    \n",
      "Loop time of 1.12249 on 1 procs for 25000 steps with 63 atoms\n",
      "\n",
      "Performance: 1924.292 ns/day, 0.012 hours/ns, 22271.901 timesteps/s, 1.403 Matom-step/s\n",
      "99.8% CPU use with 1 MPI tasks x 1 OpenMP threads\n",
      "\n",
      "MPI task timing breakdown:\n",
      "Section |  min time  |  avg time  |  max time  |%varavg| %total\n",
      "---------------------------------------------------------------\n",
      "Pair    | 0.94137    | 0.94137    | 0.94137    |   0.0 | 83.86\n",
      "Neigh   | 0.0012089  | 0.0012089  | 0.0012089  |   0.0 |  0.11\n",
      "Comm    | 0.10816    | 0.10816    | 0.10816    |   0.0 |  9.64\n",
      "Output  | 0.0017787  | 0.0017787  | 0.0017787  |   0.0 |  0.16\n",
      "Modify  | 0.044472   | 0.044472   | 0.044472   |   0.0 |  3.96\n",
      "Other   |            | 0.0255     |            |       |  2.27\n",
      "\n",
      "Nlocal:             63 ave          63 max          63 min\n",
      "Histogram: 1 0 0 0 0 0 0 0 0 0\n",
      "Nghost:           2283 ave        2283 max        2283 min\n",
      "Histogram: 1 0 0 0 0 0 0 0 0 0\n",
      "Neighs:          14182 ave       14182 max       14182 min\n",
      "Histogram: 1 0 0 0 0 0 0 0 0 0\n",
      "\n",
      "Total # of neighbors = 14182\n",
      "Ave neighs/atom = 225.11111\n",
      "Neighbor list builds = 6\n",
      "Dangerous builds = 0\n"
     ]
    }
   ],
   "source": [
    "L = IPyLammps() # this prepares the lammps Python object\n",
    "L.file(\"Au.setup\") # this loads in the other simulation settings\n"
   ]
  },
  {
   "cell_type": "markdown",
   "metadata": {},
   "source": [
    "### Running the simulation ###\n",
    "\n",
    "Now that the simulation is prepared, we can run the simulation. Let us run a short simulation of 25000 steps to see what happens. You'll see that a file called `md.dcd` will be created.\n",
    "\n",
    "NOTE: This next cell make take a few minutes to run. You will know it is still busy if you see the star in \"In \\[*\\]\""
   ]
  },
  {
   "cell_type": "code",
   "execution_count": 39,
   "metadata": {},
   "outputs": [],
   "source": [
    "# L.run(25000) #run for 25000 steps, should take a few seconds to run\n",
    "atoms = read(\"initial.data\", format=\"lammps-data\")\n",
    "atoms.write(\"initial.gro\", format=\"gromacs\")"
   ]
  },
  {
   "cell_type": "markdown",
   "metadata": {},
   "source": [
    "### Visualizing the trajectory ###\n",
    "\n",
    "You'll see in the output of the previous block that a bunch of text was printed out. This is the \"log\" of the simulation and contains useful information. For our purposes, we can skip this and instead visualize the actual trajectory.\n",
    "\n",
    "We will use `nglview` to display the trajectory. Once it loads, you can click play to see the atoms in motion!"
   ]
  },
  {
   "cell_type": "code",
   "execution_count": 44,
   "metadata": {},
   "outputs": [
    {
     "data": {
      "application/vnd.jupyter.widget-view+json": {
       "model_id": "bada01218edc4372bdd64dd2d03803de",
       "version_major": 2,
       "version_minor": 0
      },
      "text/plain": [
       "NGLWidget(max_frame=25)"
      ]
     },
     "metadata": {},
     "output_type": "display_data"
    }
   ],
   "source": [
    "traj = md.load(\"atom.lammpstrj\", top=\"initial.gro\")\n",
    "view = ngl.show_mdtraj(traj)\n",
    "# view.clear_representations()\n",
    "\n",
    "# show all sites as either cyan or pink\n",
    "# view.add_spacefill(selection=\".1 or .2\", color=\"cyan\", radius=3.0)\n",
    "# view.add_spacefill(selection=\".3\", color=\"pink\", radius=3.0)\n",
    "\n",
    "# add to output\n",
    "view[0].add_representation('ball-and-stick', selection='licorice')\n",
    "view.stage.set_parameters(**{\n",
    "    # \"percentages, \"dist\" is distance too camera in Angstrom\n",
    "    \"clipNear\": 0, \"clipFar\": 1000, \"clipDist\": 1,\n",
    "    # percentages, start of fog and where on full effect\n",
    "    \"fogNear\": 0, \"fogFar\": 100,\n",
    "    # background color\n",
    "    \"backgroundColor\": \"black\",\n",
    "})\n",
    "view"
   ]
  },
  {
   "cell_type": "markdown",
   "metadata": {},
   "source": [
    "### Observation debrief ###\n",
    "\n",
    "What did you observe when you played those movies? Did you see aggregation of the hexamers into a cluster? What shape is the cluster?\n",
    "\n",
    "Keep this behavior in mind because now we are going to adjust the model parameters to see what happens. You should change the $A$ parameter to be lower (e.g., 2.0 kcal/mol) or higher (e.g., 4.0 kcal/mol). To do so, go back to the top of the notebook and change the line that originally says:\n",
    "\n",
    "`L.variable(\"GAUSSA equal 2.65\")`\n",
    "\n",
    "Note that the original simulation uses 2.65 kcal/mol. What do you think will happen in either scenario? Do you notice any changes in assembly behavior? "
   ]
  },
  {
   "cell_type": "code",
   "execution_count": null,
   "metadata": {},
   "outputs": [],
   "source": []
  }
 ],
 "metadata": {
  "kernelspec": {
   "display_name": "Python 3 (ipykernel)",
   "language": "python",
   "name": "python3"
  },
  "language_info": {
   "codemirror_mode": {
    "name": "ipython",
    "version": 3
   },
   "file_extension": ".py",
   "mimetype": "text/x-python",
   "name": "python",
   "nbconvert_exporter": "python",
   "pygments_lexer": "ipython3",
   "version": "3.12.4"
  }
 },
 "nbformat": 4,
 "nbformat_minor": 2
}
